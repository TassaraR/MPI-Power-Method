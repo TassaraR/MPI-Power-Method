{
 "cells": [
  {
   "cell_type": "code",
   "execution_count": 1,
   "id": "d29ba219-1928-4ce4-879c-016a1053f9fd",
   "metadata": {},
   "outputs": [],
   "source": [
    "import numpy as np\n",
    "import time\n",
    "import pandas as pd\n",
    "import os\n",
    "import matplotlib.pyplot as plt\n",
    "import seaborn as sns"
   ]
  },
  {
   "cell_type": "markdown",
   "id": "98ac46cc-122a-4984-b2e5-9e5f4d41de61",
   "metadata": {},
   "source": [
    "___"
   ]
  },
  {
   "cell_type": "markdown",
   "id": "bd9816dc-8ab0-46c5-b8d0-97c16a25a72f",
   "metadata": {},
   "source": [
    "Power Iteration implemented using MPI4Py"
   ]
  },
  {
   "cell_type": "code",
   "execution_count": 2,
   "id": "64985be5-52b6-4da1-9881-6f7031669590",
   "metadata": {},
   "outputs": [
    {
     "name": "stdout",
     "output_type": "stream",
     "text": [
      "usage: power_method.py [-h] [-m MATRIX] [-i ITER] [-v VERBOSE] [-np NUMPY]\n",
      "                       [-s SAVE]\n",
      "\n",
      "optional arguments:\n",
      "  -h, --help            show this help message and exit\n",
      "  -m MATRIX, --matrix MATRIX\n",
      "                        square matrix size (Default: 100)\n",
      "  -i ITER, --iter ITER  number of Iterations for Power Method (Default: 10000)\n",
      "  -v VERBOSE, --verbose VERBOSE\n",
      "                        verbose (0, 1, 2) (Default: 2)\n",
      "  -np NUMPY, --numpy NUMPY\n",
      "                        use Numpy (default: 1)\n",
      "  -s SAVE, --save SAVE  save to file (default: None)\n"
     ]
    }
   ],
   "source": [
    "!python power_method.py --help"
   ]
  },
  {
   "cell_type": "markdown",
   "id": "9e656988-75c4-4e1c-b870-7ac71ebd91b2",
   "metadata": {},
   "source": [
    "___"
   ]
  },
  {
   "cell_type": "markdown",
   "id": "8939f572-a87f-43be-8f1e-1c02bc275555",
   "metadata": {},
   "source": [
    "Comparison with Numpy"
   ]
  },
  {
   "cell_type": "code",
   "execution_count": 3,
   "id": "d89ee0fa-3dc0-4244-9c05-1ffaa12177e6",
   "metadata": {},
   "outputs": [],
   "source": [
    "def generate_matrix(dim):\n",
    "    from scipy.stats import ortho_group\n",
    "    from scipy.sparse import spdiags\n",
    "    a = ortho_group.rvs(dim, random_state=0)\n",
    "    b = np.linspace(1., 10., dim)\n",
    "    return a @ spdiags(b, 0, dim, dim) @ a.T\n",
    "\n",
    "def power_iter(A, sims):\n",
    "    \n",
    "    start_time = time.time()\n",
    "    b = np.random.rand(A.shape[1])\n",
    "\n",
    "    for _ in range(simul):\n",
    "        \n",
    "        Ab_i = A @ b\n",
    "        Ab_norm_i = np.linalg.norm(Ab_i)\n",
    "        b = Ab_i / Ab_norm_i\n",
    "        \n",
    "    runtime = time.time() - start_time\n",
    "    return dict(eigenval=b, runtime=runtime)"
   ]
  },
  {
   "cell_type": "markdown",
   "id": "566b2158-23c9-4688-b743-ba4da2056f3a",
   "metadata": {},
   "source": [
    "___"
   ]
  },
  {
   "cell_type": "markdown",
   "id": "7fa6c520-12da-4ea8-aaac-5a04abb451a8",
   "metadata": {},
   "source": [
    "### Sample execution:"
   ]
  },
  {
   "cell_type": "code",
   "execution_count": 4,
   "id": "19ca8e03-eb87-4477-a72a-0deaae7bf0ac",
   "metadata": {},
   "outputs": [
    {
     "name": "stdout",
     "output_type": "stream",
     "text": [
      "Rank 0:\n",
      "- Total Runtime:     0.27 Secs.\n"
     ]
    }
   ],
   "source": [
    "!mpiexec -n 5 python power_method.py -m 500 -i 10000 -v 1 -v 1"
   ]
  },
  {
   "cell_type": "code",
   "execution_count": 5,
   "id": "7920a2c1-bfca-4573-9401-8b2a03bc66e1",
   "metadata": {},
   "outputs": [
    {
     "name": "stdout",
     "output_type": "stream",
     "text": [
      "Processes:\t5\n",
      "Matrix Size:\t500\n",
      "Iterations:\t10,000\n",
      "Rank 0:\n",
      "- Total Runtime:     0.24 Secs.\n",
      "> Est. eigenvalue:   9.999999999999908\n",
      "> Est. eigenvector:  [ 0.11086445 -0.04502553 -0.0168605   0.02912957  0.03294897]... (Total length: 500)\n",
      "> Real eigenvalue:    9.999999999999993\n",
      "> Real eigenvector:  [-0.11086428  0.04502556  0.01686045 -0.0291296  -0.03294908]... (Total length: 500)\n",
      "- Error: -8.53e-14 | % Error: -8.53e-15%\n"
     ]
    }
   ],
   "source": [
    "!mpiexec -n 5 python power_method.py -m 500 -i 10000 -v 2"
   ]
  },
  {
   "cell_type": "markdown",
   "id": "8e404b5e-23b3-411e-a42e-27429665a7c4",
   "metadata": {},
   "source": [
    "___"
   ]
  },
  {
   "cell_type": "markdown",
   "id": "e9593179-afd2-47d8-8876-587b1255e08c",
   "metadata": {},
   "source": [
    "### Numpy Vs No Numpy runtime example"
   ]
  },
  {
   "cell_type": "code",
   "execution_count": 6,
   "id": "1e8d5fdc-d00e-430b-bb16-b7f7a49221ad",
   "metadata": {},
   "outputs": [
    {
     "name": "stdout",
     "output_type": "stream",
     "text": [
      "Rank 0:\n",
      "- Total Runtime:     0.05 Secs.\n",
      "Rank 0:\n",
      "- Total Runtime:    48.03 Secs.\n"
     ]
    }
   ],
   "source": [
    "!mpiexec -n 5 python power_method.py -m 500 -i 2000 -v 1 -np 1\n",
    "!mpiexec -n 5 python power_method.py -m 500 -i 2000 -v 1 -np 0"
   ]
  },
  {
   "cell_type": "markdown",
   "id": "7ca44bab-f64f-41e9-a7ed-87ac10b5ed84",
   "metadata": {},
   "source": [
    "### Benchmark Error - Estimated vs Real"
   ]
  },
  {
   "cell_type": "code",
   "execution_count": 7,
   "id": "2bcf54fb-5aa3-4b92-80d2-4ff3ea6d9129",
   "metadata": {},
   "outputs": [],
   "source": [
    "!mpiexec -n 6 python power_method.py -m 1800 -i 5 -v 0 --save bench_error\n",
    "!mpiexec -n 6 python power_method.py -m 1800 -i 10 -v 0 --save bench_error\n",
    "!mpiexec -n 6 python power_method.py -m 1800 -i 50 -v 0 --save bench_error\n",
    "!mpiexec -n 6 python power_method.py -m 1800 -i 100 -v 0 --save bench_error\n",
    "!mpiexec -n 6 python power_method.py -m 1800 -i 500 -v 0 --save bench_error\n",
    "!mpiexec -n 6 python power_method.py -m 1800 -i 1000 -v 0 --save bench_error\n",
    "!mpiexec -n 6 python power_method.py -m 1800 -i 5000 -v 0 --save bench_error\n",
    "!mpiexec -n 6 python power_method.py -m 1800 -i 10000 -v 0 --save bench_error"
   ]
  },
  {
   "cell_type": "code",
   "execution_count": 8,
   "id": "d0a2dd5f-af97-4328-b60a-f32b36366fab",
   "metadata": {},
   "outputs": [],
   "source": [
    "bench_error = pd.read_csv('bench_error.csv')\n",
    "bench_error['Abs. Error'] = abs(bench_error['Error'])"
   ]
  },
  {
   "cell_type": "code",
   "execution_count": 9,
   "id": "616ea007-a84c-43f2-a1a4-bdf05fcbb737",
   "metadata": {},
   "outputs": [
    {
     "data": {
      "image/png": "[encoded data removed]",
      "text/plain": [
       "<Figure size 1152x360 with 2 Axes>"
      ]
     },
     "metadata": {
      "needs_background": "light"
     },
     "output_type": "display_data"
    }
   ],
   "source": [
    "fig, ax = plt.subplots(1, 2, figsize=(16, 5), sharey=True)\n",
    "sns.lineplot(data=bench_error, x='Iteration', y='Abs. Error', color='purple',\n",
    "             linewidth=2, ax=ax[0])\n",
    "ax[0].set_title(\"Benchmark - Abs. Error (Est. Vs Real)\", weight='bold')\n",
    "sns.lineplot(data=bench_error, x='Iteration', y='Abs. Error', color='purple',\n",
    "             linewidth=2, ax=ax[1])\n",
    "ax[1].set_title(\"Iter. Log Scale - Benchmark - Abs. Error (Est. Vs Real)\", weight='bold')\n",
    "ax[1].set_xscale('log')\n",
    "ax[1].set_xlabel('Iterations (Log Scale)')\n",
    "plt.tight_layout()\n",
    "sns.despine(offset=10)"
   ]
  },
  {
   "cell_type": "markdown",
   "id": "c179cfc4-f2b2-4329-a999-5a06b7b5199d",
   "metadata": {},
   "source": [
    "### Benchmark Runtimes"
   ]
  },
  {
   "cell_type": "code",
   "execution_count": 10,
   "id": "115cbf47-2393-43de-b95d-3364d6767f98",
   "metadata": {},
   "outputs": [],
   "source": [
    "A = generate_matrix(1800)\n",
    "simul = 10000\n",
    "local_result = power_iter(A, simul)"
   ]
  },
  {
   "cell_type": "code",
   "execution_count": 11,
   "id": "1aecb47d-bd76-420f-b08e-2d7c80541fc7",
   "metadata": {},
   "outputs": [],
   "source": [
    "!mpiexec -n 1 python power_method.py -m 1800 -i 10000 -v 0 --save runtime\n",
    "!mpiexec -n 2 python power_method.py -m 1800 -i 10000 -v 0 --save runtime\n",
    "!mpiexec -n 3 python power_method.py -m 1800 -i 10000 -v 0 --save runtime\n",
    "!mpiexec -n 4 python power_method.py -m 1800 -i 10000 -v 0 --save runtime\n",
    "!mpiexec -n 5 python power_method.py -m 1800 -i 10000 -v 0 --save runtime\n",
    "!mpiexec -n 6 python power_method.py -m 1800 -i 10000 -v 0 --save runtime\n",
    "!mpiexec -n 8 python power_method.py -m 1800 -i 10000 -v 0 --save runtime"
   ]
  },
  {
   "cell_type": "code",
   "execution_count": 12,
   "id": "f7135cd6-f23c-4e06-9a97-c671b167a774",
   "metadata": {},
   "outputs": [],
   "source": [
    "runtime = pd.read_csv('runtime.csv')"
   ]
  },
  {
   "cell_type": "code",
   "execution_count": 13,
   "id": "7eb45f1a-9346-4e47-9a76-8ccee61309a0",
   "metadata": {},
   "outputs": [
    {
     "data": {
      "image/png": "[encoded data removed]",
      "text/plain": [
       "<Figure size 720x360 with 1 Axes>"
      ]
     },
     "metadata": {
      "needs_background": "light"
     },
     "output_type": "display_data"
    }
   ],
   "source": [
    "fig, ax = plt.subplots(figsize=(10, 5))\n",
    "sns.lineplot(data=runtime, x='Processes', y='Runtime', ax=ax, label='MPI',\n",
    "            linewidth=2, color='purple')\n",
    "ax.axhline(local_result['runtime'], color='r', label='Local Numpy',\n",
    "           linestyle='--')\n",
    "ax.set_ylim(0, max([runtime['Runtime'].max(), local_result['runtime']]) * 1.2)\n",
    "ax.set_xticks(runtime['Processes'])\n",
    "ax.set_title('Runtime Benchmark', weight='bold')\n",
    "ax.set_ylabel('Runtime (seconds)')\n",
    "ax.legend()\n",
    "sns.despine(offset=10)\n",
    "plt.show()"
   ]
  },
  {
   "cell_type": "markdown",
   "id": "2b8fe94c-34ee-4380-8100-71acc76ab3a2",
   "metadata": {},
   "source": [
    "___"
   ]
  },
  {
   "cell_type": "markdown",
   "id": "4ee558b3-9418-422a-9700-32dc31f58d99",
   "metadata": {},
   "source": [
    "## DataFrames"
   ]
  },
  {
   "cell_type": "markdown",
   "id": "cd40bbb7-d68c-412c-a3a4-4a4524a2bba2",
   "metadata": {},
   "source": [
    "#### Benchmark Error"
   ]
  },
  {
   "cell_type": "code",
   "execution_count": 14,
   "id": "ee7b88da-c062-4173-8050-b98a8b494ad3",
   "metadata": {},
   "outputs": [
    {
     "data": {
      "text/html": [
       "<div>\n",
       "<style scoped>\n",
       "    .dataframe tbody tr th:only-of-type {\n",
       "        vertical-align: middle;\n",
       "    }\n",
       "\n",
       "    .dataframe tbody tr th {\n",
       "        vertical-align: top;\n",
       "    }\n",
       "\n",
       "    .dataframe thead th {\n",
       "        text-align: right;\n",
       "    }\n",
       "</style>\n",
       "<table border=\"1\" class=\"dataframe\">\n",
       "  <thead>\n",
       "    <tr style=\"text-align: right;\">\n",
       "      <th></th>\n",
       "      <th>Name</th>\n",
       "      <th>Processes</th>\n",
       "      <th>Cols</th>\n",
       "      <th>Iteration</th>\n",
       "      <th>Runtime</th>\n",
       "      <th>Est_Eigenvalue</th>\n",
       "      <th>Real_Eigenvalue</th>\n",
       "      <th>Error</th>\n",
       "      <th>Pct_Error</th>\n",
       "      <th>Abs. Error</th>\n",
       "    </tr>\n",
       "  </thead>\n",
       "  <tbody>\n",
       "    <tr>\n",
       "      <th>0</th>\n",
       "      <td>bench_error</td>\n",
       "      <td>6</td>\n",
       "      <td>1800</td>\n",
       "      <td>5</td>\n",
       "      <td>0.012511</td>\n",
       "      <td>9.191264</td>\n",
       "      <td>10.0</td>\n",
       "      <td>-8.087363e-01</td>\n",
       "      <td>-8.087363e-02</td>\n",
       "      <td>8.087363e-01</td>\n",
       "    </tr>\n",
       "    <tr>\n",
       "      <th>1</th>\n",
       "      <td>bench_error</td>\n",
       "      <td>6</td>\n",
       "      <td>1800</td>\n",
       "      <td>10</td>\n",
       "      <td>0.013011</td>\n",
       "      <td>9.554569</td>\n",
       "      <td>10.0</td>\n",
       "      <td>-4.454315e-01</td>\n",
       "      <td>-4.454315e-02</td>\n",
       "      <td>4.454315e-01</td>\n",
       "    </tr>\n",
       "    <tr>\n",
       "      <th>2</th>\n",
       "      <td>bench_error</td>\n",
       "      <td>6</td>\n",
       "      <td>1800</td>\n",
       "      <td>50</td>\n",
       "      <td>0.038533</td>\n",
       "      <td>9.909055</td>\n",
       "      <td>10.0</td>\n",
       "      <td>-9.094459e-02</td>\n",
       "      <td>-9.094459e-03</td>\n",
       "      <td>9.094459e-02</td>\n",
       "    </tr>\n",
       "    <tr>\n",
       "      <th>3</th>\n",
       "      <td>bench_error</td>\n",
       "      <td>6</td>\n",
       "      <td>1800</td>\n",
       "      <td>100</td>\n",
       "      <td>0.034031</td>\n",
       "      <td>9.957004</td>\n",
       "      <td>10.0</td>\n",
       "      <td>-4.299626e-02</td>\n",
       "      <td>-4.299626e-03</td>\n",
       "      <td>4.299626e-02</td>\n",
       "    </tr>\n",
       "    <tr>\n",
       "      <th>4</th>\n",
       "      <td>bench_error</td>\n",
       "      <td>6</td>\n",
       "      <td>1800</td>\n",
       "      <td>500</td>\n",
       "      <td>0.182158</td>\n",
       "      <td>9.995004</td>\n",
       "      <td>10.0</td>\n",
       "      <td>-4.996105e-03</td>\n",
       "      <td>-4.996105e-04</td>\n",
       "      <td>4.996105e-03</td>\n",
       "    </tr>\n",
       "    <tr>\n",
       "      <th>5</th>\n",
       "      <td>bench_error</td>\n",
       "      <td>6</td>\n",
       "      <td>1800</td>\n",
       "      <td>1000</td>\n",
       "      <td>0.260226</td>\n",
       "      <td>9.999366</td>\n",
       "      <td>10.0</td>\n",
       "      <td>-6.342350e-04</td>\n",
       "      <td>-6.342350e-05</td>\n",
       "      <td>6.342350e-04</td>\n",
       "    </tr>\n",
       "    <tr>\n",
       "      <th>6</th>\n",
       "      <td>bench_error</td>\n",
       "      <td>6</td>\n",
       "      <td>1800</td>\n",
       "      <td>5000</td>\n",
       "      <td>1.125468</td>\n",
       "      <td>10.000000</td>\n",
       "      <td>10.0</td>\n",
       "      <td>-3.700790e-07</td>\n",
       "      <td>-3.700790e-08</td>\n",
       "      <td>3.700790e-07</td>\n",
       "    </tr>\n",
       "    <tr>\n",
       "      <th>7</th>\n",
       "      <td>bench_error</td>\n",
       "      <td>6</td>\n",
       "      <td>1800</td>\n",
       "      <td>10000</td>\n",
       "      <td>2.321000</td>\n",
       "      <td>10.000000</td>\n",
       "      <td>10.0</td>\n",
       "      <td>-2.376170e-09</td>\n",
       "      <td>-2.376170e-10</td>\n",
       "      <td>2.376170e-09</td>\n",
       "    </tr>\n",
       "  </tbody>\n",
       "</table>\n",
       "</div>"
      ],
      "text/plain": [
       "          Name  Processes  Cols  Iteration   Runtime  Est_Eigenvalue  \\\n",
       "0  bench_error          6  1800          5  0.012511        9.191264   \n",
       "1  bench_error          6  1800         10  0.013011        9.554569   \n",
       "2  bench_error          6  1800         50  0.038533        9.909055   \n",
       "3  bench_error          6  1800        100  0.034031        9.957004   \n",
       "4  bench_error          6  1800        500  0.182158        9.995004   \n",
       "5  bench_error          6  1800       1000  0.260226        9.999366   \n",
       "6  bench_error          6  1800       5000  1.125468       10.000000   \n",
       "7  bench_error          6  1800      10000  2.321000       10.000000   \n",
       "\n",
       "   Real_Eigenvalue         Error     Pct_Error    Abs. Error  \n",
       "0             10.0 -8.087363e-01 -8.087363e-02  8.087363e-01  \n",
       "1             10.0 -4.454315e-01 -4.454315e-02  4.454315e-01  \n",
       "2             10.0 -9.094459e-02 -9.094459e-03  9.094459e-02  \n",
       "3             10.0 -4.299626e-02 -4.299626e-03  4.299626e-02  \n",
       "4             10.0 -4.996105e-03 -4.996105e-04  4.996105e-03  \n",
       "5             10.0 -6.342350e-04 -6.342350e-05  6.342350e-04  \n",
       "6             10.0 -3.700790e-07 -3.700790e-08  3.700790e-07  \n",
       "7             10.0 -2.376170e-09 -2.376170e-10  2.376170e-09  "
      ]
     },
     "execution_count": 14,
     "metadata": {},
     "output_type": "execute_result"
    }
   ],
   "source": [
    "bench_error"
   ]
  },
  {
   "cell_type": "markdown",
   "id": "ef441699-f45f-4fa5-86f8-1fc5cd2d7874",
   "metadata": {},
   "source": [
    "#### Runtime"
   ]
  },
  {
   "cell_type": "code",
   "execution_count": 15,
   "id": "848ca63a-a571-4fb0-9b26-b7ec9e3f83df",
   "metadata": {},
   "outputs": [
    {
     "data": {
      "text/html": [
       "<div>\n",
       "<style scoped>\n",
       "    .dataframe tbody tr th:only-of-type {\n",
       "        vertical-align: middle;\n",
       "    }\n",
       "\n",
       "    .dataframe tbody tr th {\n",
       "        vertical-align: top;\n",
       "    }\n",
       "\n",
       "    .dataframe thead th {\n",
       "        text-align: right;\n",
       "    }\n",
       "</style>\n",
       "<table border=\"1\" class=\"dataframe\">\n",
       "  <thead>\n",
       "    <tr style=\"text-align: right;\">\n",
       "      <th></th>\n",
       "      <th>Name</th>\n",
       "      <th>Processes</th>\n",
       "      <th>Cols</th>\n",
       "      <th>Iteration</th>\n",
       "      <th>Runtime</th>\n",
       "      <th>Est_Eigenvalue</th>\n",
       "      <th>Real_Eigenvalue</th>\n",
       "      <th>Error</th>\n",
       "      <th>Pct_Error</th>\n",
       "    </tr>\n",
       "  </thead>\n",
       "  <tbody>\n",
       "    <tr>\n",
       "      <th>0</th>\n",
       "      <td>runtime</td>\n",
       "      <td>1</td>\n",
       "      <td>1800</td>\n",
       "      <td>10000</td>\n",
       "      <td>9.700341</td>\n",
       "      <td>10.0</td>\n",
       "      <td>10.0</td>\n",
       "      <td>-2.376170e-09</td>\n",
       "      <td>-2.376170e-10</td>\n",
       "    </tr>\n",
       "    <tr>\n",
       "      <th>1</th>\n",
       "      <td>runtime</td>\n",
       "      <td>2</td>\n",
       "      <td>1800</td>\n",
       "      <td>10000</td>\n",
       "      <td>4.999300</td>\n",
       "      <td>10.0</td>\n",
       "      <td>10.0</td>\n",
       "      <td>-2.376170e-09</td>\n",
       "      <td>-2.376170e-10</td>\n",
       "    </tr>\n",
       "    <tr>\n",
       "      <th>2</th>\n",
       "      <td>runtime</td>\n",
       "      <td>3</td>\n",
       "      <td>1800</td>\n",
       "      <td>10000</td>\n",
       "      <td>4.152573</td>\n",
       "      <td>10.0</td>\n",
       "      <td>10.0</td>\n",
       "      <td>-2.376170e-09</td>\n",
       "      <td>-2.376170e-10</td>\n",
       "    </tr>\n",
       "    <tr>\n",
       "      <th>3</th>\n",
       "      <td>runtime</td>\n",
       "      <td>4</td>\n",
       "      <td>1800</td>\n",
       "      <td>10000</td>\n",
       "      <td>3.268309</td>\n",
       "      <td>10.0</td>\n",
       "      <td>10.0</td>\n",
       "      <td>-2.376170e-09</td>\n",
       "      <td>-2.376170e-10</td>\n",
       "    </tr>\n",
       "    <tr>\n",
       "      <th>4</th>\n",
       "      <td>runtime</td>\n",
       "      <td>5</td>\n",
       "      <td>1800</td>\n",
       "      <td>10000</td>\n",
       "      <td>2.739359</td>\n",
       "      <td>10.0</td>\n",
       "      <td>10.0</td>\n",
       "      <td>-2.376170e-09</td>\n",
       "      <td>-2.376170e-10</td>\n",
       "    </tr>\n",
       "    <tr>\n",
       "      <th>5</th>\n",
       "      <td>runtime</td>\n",
       "      <td>6</td>\n",
       "      <td>1800</td>\n",
       "      <td>10000</td>\n",
       "      <td>2.173870</td>\n",
       "      <td>10.0</td>\n",
       "      <td>10.0</td>\n",
       "      <td>-2.376170e-09</td>\n",
       "      <td>-2.376170e-10</td>\n",
       "    </tr>\n",
       "    <tr>\n",
       "      <th>6</th>\n",
       "      <td>runtime</td>\n",
       "      <td>8</td>\n",
       "      <td>1800</td>\n",
       "      <td>10000</td>\n",
       "      <td>2.352024</td>\n",
       "      <td>10.0</td>\n",
       "      <td>10.0</td>\n",
       "      <td>-2.376169e-09</td>\n",
       "      <td>-2.376169e-10</td>\n",
       "    </tr>\n",
       "  </tbody>\n",
       "</table>\n",
       "</div>"
      ],
      "text/plain": [
       "      Name  Processes  Cols  Iteration   Runtime  Est_Eigenvalue  \\\n",
       "0  runtime          1  1800      10000  9.700341            10.0   \n",
       "1  runtime          2  1800      10000  4.999300            10.0   \n",
       "2  runtime          3  1800      10000  4.152573            10.0   \n",
       "3  runtime          4  1800      10000  3.268309            10.0   \n",
       "4  runtime          5  1800      10000  2.739359            10.0   \n",
       "5  runtime          6  1800      10000  2.173870            10.0   \n",
       "6  runtime          8  1800      10000  2.352024            10.0   \n",
       "\n",
       "   Real_Eigenvalue         Error     Pct_Error  \n",
       "0             10.0 -2.376170e-09 -2.376170e-10  \n",
       "1             10.0 -2.376170e-09 -2.376170e-10  \n",
       "2             10.0 -2.376170e-09 -2.376170e-10  \n",
       "3             10.0 -2.376170e-09 -2.376170e-10  \n",
       "4             10.0 -2.376170e-09 -2.376170e-10  \n",
       "5             10.0 -2.376170e-09 -2.376170e-10  \n",
       "6             10.0 -2.376169e-09 -2.376169e-10  "
      ]
     },
     "execution_count": 15,
     "metadata": {},
     "output_type": "execute_result"
    }
   ],
   "source": [
    "runtime"
   ]
  },
  {
   "cell_type": "markdown",
   "id": "1e70e672-3a6f-4c1a-bb41-0c9fca57f4f7",
   "metadata": {},
   "source": [
    "### Mini-Benchmark - No Numpy"
   ]
  },
  {
   "cell_type": "code",
   "execution_count": 16,
   "id": "d7d36bdc-1ecb-4ee8-9f8a-06424f38808e",
   "metadata": {},
   "outputs": [],
   "source": [
    "!mpiexec -n 1 python power_method.py -m 384 -i 1000 -v 0 -np 0 --save rtime_no_np\n",
    "!mpiexec -n 2 python power_method.py -m 384 -i 1000 -v 0 -np 0 --save rtime_no_np\n",
    "!mpiexec -n 4 python power_method.py -m 384 -i 1000 -v 0 -np 0 --save rtime_no_np\n",
    "!mpiexec -n 6 python power_method.py -m 384 -i 1000 -v 0 -np 0 --save rtime_no_np\n",
    "!mpiexec -n 8 python power_method.py -m 384 -i 1000 -v 0 -np 0 --save rtime_no_np"
   ]
  },
  {
   "cell_type": "code",
   "execution_count": 17,
   "id": "48bd2886-9838-4c45-b9ec-bcf6eb1f5b7b",
   "metadata": {},
   "outputs": [],
   "source": [
    "rtime_no_np = pd.read_csv('rtime_no_np.csv')\n",
    "os.remove('rtime_no_np.csv')"
   ]
  },
  {
   "cell_type": "code",
   "execution_count": 18,
   "id": "018595fc-d035-4d7b-bd75-c31f7468921a",
   "metadata": {},
   "outputs": [
    {
     "data": {
      "image/png": "[encoded data removed]",
      "text/plain": [
       "<Figure size 720x360 with 1 Axes>"
      ]
     },
     "metadata": {
      "needs_background": "light"
     },
     "output_type": "display_data"
    }
   ],
   "source": [
    "fig, ax = plt.subplots(figsize=(10, 5))\n",
    "sns.lineplot(data=rtime_no_np, x='Processes', y='Runtime', ax=ax,\n",
    "            linewidth=2, color='purple')\n",
    "ax.set_xticks(rtime_no_np['Processes'])\n",
    "ax.set_title('Runtime Benchmark - No Numpy', weight='bold')\n",
    "ax.set_ylabel('Runtime (seconds)')\n",
    "sns.despine(offset=10)\n",
    "plt.show()"
   ]
  }
 ],
 "metadata": {
  "kernelspec": {
   "display_name": "Python 3",
   "language": "python",
   "name": "python3"
  },
  "language_info": {
   "codemirror_mode": {
    "name": "ipython",
    "version": 3
   },
   "file_extension": ".py",
   "mimetype": "text/x-python",
   "name": "python",
   "nbconvert_exporter": "python",
   "pygments_lexer": "ipython3",
   "version": "3.8.8"
  }
 },
 "nbformat": 4,
 "nbformat_minor": 5
}
